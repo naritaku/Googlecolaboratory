{
  "nbformat": 4,
  "nbformat_minor": 0,
  "metadata": {
    "colab": {
      "name": "創造設計工学 #cs3",
      "provenance": [],
      "collapsed_sections": [],
      "include_colab_link": true
    },
    "kernelspec": {
      "display_name": "Python 3",
      "name": "python3"
    }
  },
  "cells": [
    {
      "cell_type": "markdown",
      "metadata": {
        "id": "view-in-github",
        "colab_type": "text"
      },
      "source": [
        "<a href=\"https://colab.research.google.com/github/naritaku/Googlecolaboratory/blob/master/%E5%89%B5%E9%80%A0%E8%A8%AD%E8%A8%88%E5%B7%A5%E5%AD%A6_cs3.ipynb\" target=\"_parent\"><img src=\"https://colab.research.google.com/assets/colab-badge.svg\" alt=\"Open In Colab\"/></a>"
      ]
    },
    {
      "cell_type": "markdown",
      "metadata": {
        "colab_type": "text",
        "id": "5fCEDCU_qrC0"
      },
      "source": [
        "## 関係式の導出\n",
        "\n",
        "\n",
        "###$x(t)$ と $\\theta(t)$\n",
        "\n",
        "x(t)とr(t)について\n",
        "\n",
        "> $x=\\frac{2\\pi}{2b}(r^2-r_0^2)$\n",
        "\n",
        "> 左辺をrになるように移項\n",
        "\n",
        ">$r(t)=\\sqrt{\\frac{b}{\\pi}x(t)+r_0^2}$ ・・・(1)\n",
        "\n",
        "\n",
        "$\\thetaとr(t)$\n",
        "> $\\Delta r=\\frac{b}{2\\pi}\\Delta\\theta$\n",
        "\n",
        ">両辺を積分\n",
        "\n",
        ">$\\int \\Delta r=\\int \\frac{b}{2\\pi}\\Delta\\theta$\n",
        "\n",
        ">$r=\\frac{b}{2\\pi}\\theta+C$・・・Cは積分定数\n",
        "\n",
        "> $\\theta=0,r=r_0$ より $C=r_0$ なので\n",
        "\n",
        ">$r(t)=\\frac{b}{2\\pi}\\theta(t)+r_0$ ・・・(2)\n",
        "\n",
        "\n",
        "(1),(2)式より\n",
        "\n",
        "> $\\sqrt{\\frac{b}{\\pi}x(t)+r_0^2}=\\frac{b}{2\\pi}\\theta(t)+r_0$・・・(3)\n",
        "\n",
        "> (3)式を左辺を $x(t)$ になるように整理\n",
        "\n",
        ">  $x(t)=r_0\\theta(t)+\\frac{b}{4\\pi}\\theta(t)^2$ ・・・(4)\n",
        "\n",
        "> (3)式を左辺を $\\theta(t)$ になるように整理\n",
        "\n",
        "> $\\theta(t)=\\frac{2\\pi}{b}(\\sqrt{\\frac{b}{\\pi}x(t)+r_0^2}-r_0)$・・・(5)\n",
        "\n",
        "### 速度$V(t)$ の導出\n",
        "\n",
        "> (4)式を\n",
        "両辺を時間$t$で微分\n",
        "\n",
        "> $\\frac{dx(t)}{dt}=r_0\\dot{\\theta}(t)+\\frac{b}{2\\pi}\\theta(t)\\dot{\\theta}(t)=V(t)$\n",
        "\n",
        ">左辺= $\\dot{\\theta}$ として\n",
        "\n",
        "> $\\frac{d\\theta(t)}{dt}=\\frac{V(t)}{\\frac{b}{2\\pi}\\theta+r_0}$・・・(6)\n",
        "\n",
        "\n",
        "\n",
        "#### 一定速V(t)=vの場合\n",
        "\n",
        ">(6)式に$V(t)=v$を代入\n",
        "\n",
        ">$\\frac{d\\theta_1(t)}{dt}=\\frac{v}{\\frac{b}{2\\pi}\\theta_1+r_0}$・・・(7)\n",
        "\n",
        ">時間tは$l/v$で求められる。\n",
        "\n",
        "\n",
        "\n",
        "#### 最高速送り　$V(t)=V_{N_{max}}$ の場合\n",
        "<!--\n",
        "> $(\\dot{\\theta_1},\\dot{\\theta_2})_{max}$ は(5)式より\n",
        "-->\n",
        "> $v=r\\dot{\\theta}$ より\n",
        "\n",
        "> $V_{N_{max}}=\\begin{cases}V_1 (r_1\\dot{\\theta_1}>\\dot{r_2\\theta_2)}\\\\ V_2(r_1\\dot{\\theta_1}\\leq r_2\\dot{\\theta_2})\\end{cases}$\n",
        "\n",
        "$r_1>r_2$ なら $\\dot{\\theta}_1<\\dot{\\theta}_2$ , $r_1<r_2$ なら $\\dot{\\theta}_1 > \\dot{\\theta}_2$,\n",
        "\n",
        "2区間に分けて計算\n",
        "\n"
      ]
    },
    {
      "cell_type": "markdown",
      "metadata": {
        "id": "-CO1wEsp5FhM",
        "colab_type": "text"
      },
      "source": [
        "# 一定速での巻き取り\n",
        "\n",
        "\n",
        ">$\\dot\\theta_1=\\frac{d\\theta(t)}{dt}=\\frac{v}{\\frac{b}{\\pi}\\theta_1+2r_0}$・・・(7)\n",
        "\n",
        "同様に$\\theta_2$の導出する\n",
        "\n",
        ">$r_2=\\sqrt{\\frac{b}{\\pi}(l-x)+r_0^2}$\n",
        "\n",
        ">$r_2=\\sqrt{\\frac{bl}{\\pi}+r_0^2}-\\frac{b}{2\\pi}\\theta_2$\n",
        "\n",
        ">$x=\\sqrt{\\frac{bl}{\\pi}+r_0^2}\\times\\theta_2-\\frac{b}{4\\pi}\\theta^2_2$\n",
        "\n",
        "\n",
        ">$\\dot x=\\sqrt{\\frac{bl}{\\pi}+r_0^2}\\times\\dot\\theta_2-\\frac{b}{2\\pi}\\theta_2\\dot\\theta_2$\n",
        "\n",
        ">$\\dot\\theta_2=\\frac{v(t)}{\\sqrt{\\frac{bl}{\\pi}+r_0^2}-\\frac{b}{2\\pi}\\theta_2}$・・・(8)\n",
        "\n",
        "## ルンゲクッタ法による 𝜃(𝑡)の変化\n",
        "(7),(8)式をもとに"
      ]
    },
    {
      "cell_type": "code",
      "metadata": {
        "id": "94hBOpZnnUAv",
        "colab_type": "code",
        "outputId": "067870de-97eb-4e69-f7e1-9ef5902e4738",
        "colab": {
          "base_uri": "https://localhost:8080/",
          "height": 634
        }
      },
      "source": [
        "\n",
        "import numpy as np\n",
        "import matplotlib.pyplot as plt\n",
        "\"\"\"\n",
        "4次のルンゲ-クッタ法による1階常微分方程式\n",
        "The fourth-order Runge-Kutta method for the 1st order ordinary differencial equation\n",
        "\n",
        "dθ/dt =v/(b/pi*θ+2r0) を解く\n",
        "\n",
        "v[m/s]\n",
        "l[m]\n",
        "r0[m]\n",
        "b[m]\n",
        "\n",
        "\"\"\"\n",
        "\n",
        "v=float(input(\"v[m/s]:?\"))\n",
        "l=float(input(\"l[m]:?\"))\n",
        "r0=float(input(\"r0[m]:?\"))\n",
        "b=float(input(\"b[m]:?\"))\n",
        "\"\"\"\n",
        "v=2\n",
        "l=10\n",
        "r0=0.01\n",
        "b=0.0005\n",
        "\"\"\"\n",
        "\n",
        "\n",
        "def f(x,t):\n",
        "    return v/(b/np.pi*x+(2*r0))\n",
        "  \n",
        "def f2(x,t):\n",
        "    return v/(np.sqrt((b*l/np.pi)+r0*r0)-b/2/np.pi*x)\n",
        "  \n",
        "a = 0\n",
        "b = l/v\n",
        "N = 300000\n",
        "h = (b-a)/N\n",
        "\n",
        "tpoints = np.arange(a,b,h)\n",
        "xpoints = []\n",
        "xpoints2 = []\n",
        "x = 0\n",
        "x2 = 0\n",
        "\n",
        "for t in tpoints:\n",
        "    xpoints.append(x)\n",
        "    k1 = h*f(x,t)\n",
        "    k2 = h*f(x+0.5*k1, t+0.5*h)\n",
        "    k3 = h*f(x+0.5*k2, t+0.5*h)\n",
        "    k4 = h*f(x+k3, t+h)\n",
        "    x += (k1+2*k2+2*k3+k4)/6\n",
        "    xpoints2.append(x2)\n",
        "    k1 = h*f2(x2,t)\n",
        "    k2 = h*f2(x2+0.5*k1, t+0.5*h)\n",
        "    k3 = h*f2(x2+0.5*k2, t+0.5*h)\n",
        "    k4 = h*f2(x2+k3, t+h)\n",
        "    x2 += (k1+2*k2+2*k3+k4)/6\n",
        "\n",
        "print(\"リール巻き取り時間:\"+str(b)+\"[s]\")    \n",
        "    \n",
        "plt.plot (tpoints[:len(xpoints)], xpoints)\n",
        "plt.xlabel(\"t [s]\")\n",
        "plt.ylabel(\"θ1(t)[rad]\")\n",
        "plt.show()\n",
        "\n",
        "plt.plot (tpoints[:len(xpoints)], xpoints2)\n",
        "plt.xlabel(\"t [s]\")\n",
        "plt.ylabel(\"θ2(t)[rad]\")\n",
        "plt.show()"
      ],
      "execution_count": 0,
      "outputs": [
        {
          "output_type": "stream",
          "text": [
            "v[m/s]:?1\n",
            "l[m]:?250\n",
            "r0[m]:?0.016\n",
            "b[m]:?0.00002\n",
            "リール巻き取り時間:250.0[s]\n"
          ],
          "name": "stdout"
        },
        {
          "output_type": "display_data",
          "data": {
            "image/png": "[encoded data removed]",
            "text/plain": [
              "<Figure size 432x288 with 1 Axes>"
            ]
          },
          "metadata": {
            "tags": []
          }
        },
        {
          "output_type": "display_data",
          "data": {
            "image/png": "[encoded data removed]",
            "text/plain": [
              "<Figure size 432x288 with 1 Axes>"
            ]
          },
          "metadata": {
            "tags": []
          }
        }
      ]
    },
    {
      "cell_type": "markdown",
      "metadata": {
        "id": "2hxj_5e9HL9T",
        "colab_type": "text"
      },
      "source": [
        "# 最高速での巻き取り\n",
        "\n",
        "最大効率のトルクで回す。->$T(t)=T_{max}$(定数)\n",
        "\n",
        "[DCモータの特性](https://ednjapan.com/edn/articles/1605/25/news042.html)\n",
        "\n",
        "\n",
        "\n",
        "トルクが定数→回転数[rpm],角速度も定数\n",
        "\n",
        ">$\\frac{d\\theta(t)}{dt}=\\Omega$・・・(8)\n",
        "\n",
        "\n",
        "半径が大きい方のリールについては\n",
        "\n",
        "$r_1\\omega_1=r_2\\omega_2$より\n",
        "\n",
        "$\\omega_1=\\frac{r_2}{r_1}\\omega_2$\n",
        "\n",
        "$\\omega_1=\\frac{\\sqrt{\\frac{bl}{\\pi}+r_0^2}-\\frac{b}{\\pi}\\theta_2}{\\frac{b}{\\pi}\\theta_1+r_0}\\omega_2$\n",
        "\n",
        "同様に\n",
        "\n",
        "$\\omega_2=\\frac{\\frac{b}{\\pi}\\theta_1+r_0}{\\sqrt{\\frac{bl}{\\pi}+r_0^2}-\\frac{b}{\\pi}\\theta_2}\\omega_1$\n",
        "\n",
        "----\n",
        "(5)式より\n",
        "$\\theta(t)=\\frac{2\\pi}{b}(\\sqrt{\\frac{b}{\\pi}x(t)+r_0^2}-r_0)$\n",
        "\n",
        "\n",
        "\n",
        "$\\theta=\\frac{2\\pi}{b}(\\sqrt{\\frac{bl}{2\\pi}+r_0^2}-r_0)$を境に、r1とr2の大きさが変わる\n",
        "\n",
        "## ルンゲクッタ法による 𝜃(𝑡)の変化"
      ]
    },
    {
      "cell_type": "code",
      "metadata": {
        "id": "ZDR520MkLEqv",
        "colab_type": "code",
        "outputId": "c959ac69-8d7d-46bd-cc34-38024b988727",
        "colab": {
          "base_uri": "https://localhost:8080/",
          "height": 566
        }
      },
      "source": [
        "\n",
        "\n",
        "import numpy as np\n",
        "import matplotlib.pyplot as plt\n",
        "\"\"\"\n",
        "4次のルンゲ-クッタ法による1階常微分方程式\n",
        "The fourth-order Runge-Kutta method for the 1st order ordinary differencial equation\n",
        "\n",
        "l[m]テープ全長\n",
        "r0[m]リール初期半径\n",
        "b[m]テープ厚み\n",
        "Ω[rad/s]最大効率となるときの角速度\n",
        "\n",
        "\"\"\"\n",
        "\"\"\"\n",
        "l=float(input(\"l[m]:?\"))\n",
        "r0=float(input(\"r0[m]:?\"))\n",
        "b=float(input(\"b[m]:?\"))\n",
        "\n",
        "omega=float(input(\"Ω[rad/s]:?\"))\n",
        "\"\"\"\n",
        "def f1(x1,x2,t):\n",
        "    return omega*(b/np.pi*x1+r0)/(np.sqrt(b*l/np.pi+r0*r0)-b/np.pi*x2)\n",
        "  \n",
        "def f3(x1,x2,t):\n",
        "    return omega*(np.sqrt(b*l/np.pi+r0*r0)-b/np.pi*x2)/(b/np.pi*x1+r0)\n",
        "\n",
        "\n",
        "l=250\n",
        "r0=0.016\n",
        "b=0.00002\n",
        "omega=1\n",
        "\n",
        "\n",
        "a = 0\n",
        "b = 30\n",
        "N = 60000\n",
        "h = (b-a)/N\n",
        "\n",
        "tpoints = np.arange(a,b,h)\n",
        "xpoints = []\n",
        "xpoints2 = []\n",
        "x1 = 0\n",
        "x2 = 0\n",
        "for t in tpoints:\n",
        "  time=t\n",
        "  if x1<2*np.pi/b*np.sqrt(b*l/2/np.pi+r0*r0)-r0:\n",
        "    xpoints.append(x1)\n",
        "    xpoints2.append(x2)\n",
        "    k1 = h*f1(x1,x2,t)\n",
        "    k2 = h*f1(x1,x2+0.5*k1, t+0.5*h)\n",
        "    k3 = h*f1(x1,x2+0.5*k2, t+0.5*h)\n",
        "    k4 = h*f1(x1,x2+k3, t+h)\n",
        "    x1+= h*omega\n",
        "    x2 += (k1+2*k2+2*k3+k4)/6\n",
        "  elif x1<2*np.pi/b*np.sqrt(b*l/np.pi+r0*r0)-r0:\n",
        "    xpoints.append(x1)\n",
        "    xpoints2.append(x2)\n",
        "    k1 = h*f3(x1,x2,t)\n",
        "    k2 = h*f3(x1+0.5*k1,x2, t+0.5*h)\n",
        "    k3 = h*f3(x1+0.5*k2,x2, t+0.5*h)\n",
        "    k4 = h*f3(x1+k3,x2, t+h)\n",
        "    x2+= h*omega\n",
        "    x1+= (k1+2*k2+2*k3+k4)/6\n",
        "  else:\n",
        "    break\n",
        "\n",
        "print(\"リール巻き取り時間:\"+str(time)+\"[s]\")    \n",
        "    \n",
        "plt.plot (tpoints[:len(xpoints)], xpoints)\n",
        "plt.xlabel(\"t [s]\")\n",
        "plt.ylabel(\"θ1(t)[rad]\")\n",
        "plt.show()\n",
        "\n",
        "plt.plot (tpoints[:len(xpoints)], xpoints2)\n",
        "plt.xlabel(\"t [s]\")\n",
        "plt.ylabel(\"θ2(t)[rad]\")\n",
        "plt.show()"
      ],
      "execution_count": 0,
      "outputs": [
        {
          "output_type": "stream",
          "text": [
            "リール巻き取り時間:10.8245[s]\n"
          ],
          "name": "stdout"
        },
        {
          "output_type": "display_data",
          "data": {
            "image/png": "[encoded data removed]",
            "text/plain": [
              "<Figure size 432x288 with 1 Axes>"
            ]
          },
          "metadata": {
            "tags": []
          }
        },
        {
          "output_type": "display_data",
          "data": {
            "image/png": "[encoded data removed]",
            "text/plain": [
              "<Figure size 432x288 with 1 Axes>"
            ]
          },
          "metadata": {
            "tags": []
          }
        }
      ]
    }
  ]
}